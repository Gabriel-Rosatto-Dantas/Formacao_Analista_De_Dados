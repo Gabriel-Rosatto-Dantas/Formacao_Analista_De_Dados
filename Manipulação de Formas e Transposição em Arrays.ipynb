{
 "cells": [
  {
   "cell_type": "code",
   "execution_count": 4,
   "metadata": {},
   "outputs": [
    {
     "name": "stdout",
     "output_type": "stream",
     "text": [
      "Shape array vendas: (4,)\n",
      "Shape matriz vendas_loja_1: (2, 2)\n",
      "Shape matriz vendas_loja_2: (3, 2)\n",
      "Shape matriz vendas_loja_3: (4, 2)\n",
      "Shape array vendas: [[100 200]\n",
      " [150 170]]\n",
      "Shape vendas_loja_2 = [[250 298 355]\n",
      " [295 775 135]]\n",
      "Shape vendas_loja_3 = [[852]\n",
      " [199]\n",
      " [123]\n",
      " [345]\n",
      " [465]\n",
      " [678]\n",
      " [345]\n",
      " [644]]\n",
      "[[250 355 775]\n",
      " [298 295 135]]\n"
     ]
    }
   ],
   "source": [
    "import numpy as np\n",
    "\n",
    "# Manipulação do shape de arrays e matrizes\n",
    "vendas = np.array([100, 200, 150, 170])\n",
    "\n",
    "vendas_loja_1 = np.array([[759, 450],\n",
    "                          [350, 299]])\n",
    "\n",
    "vendas_loja_2 = np.array([[250, 298],\n",
    "                          [355, 295],\n",
    "                          [775, 135]]) #3x2 ->2x3\n",
    "\n",
    "vendas_loja_3 = np.array([[852, 199],\n",
    "                          [123, 345],\n",
    "                          [465, 678],\n",
    "                          [345,644]]) # 4x2 ->2x4 -> 8x1\n",
    "\n",
    "print(\"Shape array vendas:\", vendas.shape)\n",
    "print(\"Shape matriz vendas_loja_1:\", vendas_loja_1.shape)\n",
    "print(\"Shape matriz vendas_loja_2:\", vendas_loja_2.shape)\n",
    "print(\"Shape matriz vendas_loja_3:\", vendas_loja_3.shape)\n",
    "\n",
    "# Reshape - Alterar o shape(formato de um array ou matriz)\n",
    "print(f'Shape array vendas: {vendas.reshape(2,2)}')\n",
    "print(f'Shape vendas_loja_2 = {vendas_loja_2.reshape(2,3)}')\n",
    "print(f'Shape vendas_loja_3 = {vendas_loja_3.reshape(8,1)}')\n",
    "\n",
    "# Transposição - (inverter as dimensões de um array)\n",
    "nova_vendas_loja_2_transposta = vendas_loja_2.T\n",
    "print(nova_vendas_loja_2_transposta)"
   ]
  },
  {
   "cell_type": "markdown",
   "metadata": {},
   "source": [
    "### Desafio 1 \n",
    "Crie um array com valores de 1 a 8 e depois o transforme em uma matriz 4x2"
   ]
  },
  {
   "cell_type": "code",
   "execution_count": 18,
   "metadata": {},
   "outputs": [
    {
     "data": {
      "text/plain": [
       "array([[1, 2],\n",
       "       [3, 4],\n",
       "       [5, 6],\n",
       "       [7, 8]])"
      ]
     },
     "execution_count": 18,
     "metadata": {},
     "output_type": "execute_result"
    }
   ],
   "source": [
    "valores = np.arange(1,9)\n",
    "valores.reshape(4,2)"
   ]
  },
  {
   "cell_type": "markdown",
   "metadata": {},
   "source": [
    "### Desafio 2\n",
    "Dada a matriz abaixo, transponha-a"
   ]
  },
  {
   "cell_type": "code",
   "execution_count": 17,
   "metadata": {},
   "outputs": [
    {
     "name": "stdout",
     "output_type": "stream",
     "text": [
      "[[1 4]\n",
      " [2 5]\n",
      " [3 6]]\n"
     ]
    }
   ],
   "source": [
    "matriz = np.array([[1,2,3],[4,5,6]])\n",
    "nova_matriz = matriz.T\n",
    "print(nova_matriz)"
   ]
  },
  {
   "cell_type": "markdown",
   "metadata": {},
   "source": [
    "### Desafio 3\n",
    "Verifique o shape do array transposto no desafio 2"
   ]
  },
  {
   "cell_type": "code",
   "execution_count": 19,
   "metadata": {},
   "outputs": [
    {
     "data": {
      "text/plain": [
       "(3, 2)"
      ]
     },
     "execution_count": 19,
     "metadata": {},
     "output_type": "execute_result"
    }
   ],
   "source": [
    "nova_matriz.shape"
   ]
  }
 ],
 "metadata": {
  "kernelspec": {
   "display_name": "Python 3",
   "language": "python",
   "name": "python3"
  },
  "language_info": {
   "codemirror_mode": {
    "name": "ipython",
    "version": 3
   },
   "file_extension": ".py",
   "mimetype": "text/x-python",
   "name": "python",
   "nbconvert_exporter": "python",
   "pygments_lexer": "ipython3",
   "version": "3.12.8"
  }
 },
 "nbformat": 4,
 "nbformat_minor": 2
}
