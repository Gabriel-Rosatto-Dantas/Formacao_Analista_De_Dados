{
 "cells": [
  {
   "cell_type": "code",
   "execution_count": 6,
   "metadata": {},
   "outputs": [
    {
     "data": {
      "text/plain": [
       "np.float64(2.0591260281974)"
      ]
     },
     "execution_count": 6,
     "metadata": {},
     "output_type": "execute_result"
    }
   ],
   "source": [
    "import numpy as np\n",
    "\n",
    "#Exponenciação x³ 5³\n",
    "np.power(5,3) #Valores individuais\n",
    "numeros = np.array([1,2,3]) # Para arrays\n",
    "np.power(numeros,2)\n",
    "\n",
    "# Logaritimo natural\n",
    "# Para que potencia eu preciso elevar o numero e (aprox 2.71) para obter esse numero ?\n",
    "np.log(7)\n",
    "numeros = np.array([1,2,3,7])\n",
    "np.log(numeros)\n",
    "\n",
    "# Raiz quadrada\n",
    "np.sqrt(16)\n",
    "numeros = np.array([1,4,9,16])\n",
    "np.sqrt(numeros)\n",
    "\n",
    "#Desvio padrão (Qual distante da média os valores estão)\n",
    "dados = np.array([50,50,47,53,52]) # 50.4 (média)\n",
    "np.std(dados)"
   ]
  },
  {
   "cell_type": "markdown",
   "metadata": {},
   "source": [
    "### Desafio 1\n",
    "Dado o array abaixo, calcule a raiz quadrada de cada número"
   ]
  },
  {
   "cell_type": "code",
   "execution_count": 7,
   "metadata": {},
   "outputs": [
    {
     "data": {
      "text/plain": [
       "array([3.16227766, 4.47213595, 6.32455532, 8.36660027])"
      ]
     },
     "execution_count": 7,
     "metadata": {},
     "output_type": "execute_result"
    }
   ],
   "source": [
    "numeros = np.array([10,20,40,70])\n",
    "np.sqrt(numeros)"
   ]
  },
  {
   "cell_type": "markdown",
   "metadata": {},
   "source": [
    "### Desafio 2\n",
    "Dado o array de pesos de candidatos abaixo, calcule o desvio padrão"
   ]
  },
  {
   "cell_type": "code",
   "execution_count": 8,
   "metadata": {},
   "outputs": [
    {
     "data": {
      "text/plain": [
       "np.float64(6.831300510639732)"
      ]
     },
     "execution_count": 8,
     "metadata": {},
     "output_type": "execute_result"
    }
   ],
   "source": [
    "pesos = np.array([40,42,41,43,44,60])\n",
    "np.std(pesos)"
   ]
  }
 ],
 "metadata": {
  "kernelspec": {
   "display_name": "Python 3",
   "language": "python",
   "name": "python3"
  },
  "language_info": {
   "codemirror_mode": {
    "name": "ipython",
    "version": 3
   },
   "file_extension": ".py",
   "mimetype": "text/x-python",
   "name": "python",
   "nbconvert_exporter": "python",
   "pygments_lexer": "ipython3",
   "version": "3.12.8"
  }
 },
 "nbformat": 4,
 "nbformat_minor": 2
}
