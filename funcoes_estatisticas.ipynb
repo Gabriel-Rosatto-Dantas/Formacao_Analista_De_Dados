{
 "cells": [
  {
   "cell_type": "code",
   "execution_count": 5,
   "metadata": {},
   "outputs": [
    {
     "data": {
      "text/plain": [
       "array([2., 3., 5.])"
      ]
     },
     "execution_count": 5,
     "metadata": {},
     "output_type": "execute_result"
    }
   ],
   "source": [
    "import numpy as np\n",
    "\n",
    "numeros = np.array([4,9,2,10,7])\n",
    "\n",
    "np.min(numeros) #Encontrar valor minimo\n",
    "np.max(numeros) #Econtrar valor maximo\n",
    "np.mean(numeros) #Encontrar media\n",
    "np.median(numeros) #Encontrar mediana (valor do meio)\n",
    "np.sum(numeros) #Soma da array\n",
    "\n",
    "np.argmin(numeros) #Encontra o indice do menor valor\n",
    "np.argmax(numeros) #Encontra o indice do maior valor\n",
    "\n",
    "np.cumsum(numeros) #Soma cumulativa dos valores do array\n",
    "\n",
    "decimais = np.array([2.5,3.2,4.8])\n",
    "np.round(decimais) #Arredondar valores"
   ]
  },
  {
   "cell_type": "markdown",
   "metadata": {},
   "source": [
    "### Desafio 1\n",
    "Dado o array de numeros abaixo, calcule a média dos numeros e exiba o resultado\n",
    "numeros = np.array([5,8,1,3])"
   ]
  },
  {
   "cell_type": "code",
   "execution_count": 6,
   "metadata": {},
   "outputs": [
    {
     "data": {
      "text/plain": [
       "np.float64(4.25)"
      ]
     },
     "execution_count": 6,
     "metadata": {},
     "output_type": "execute_result"
    }
   ],
   "source": [
    "numeros = np.array([5,8,1,3])\n",
    "np.mean(numeros)"
   ]
  },
  {
   "cell_type": "markdown",
   "metadata": {},
   "source": [
    "### Desafio 2\n",
    "Encontre o valor minimo dentro deste array e exiba o resultado"
   ]
  },
  {
   "cell_type": "code",
   "execution_count": 7,
   "metadata": {},
   "outputs": [
    {
     "data": {
      "text/plain": [
       "np.int64(1)"
      ]
     },
     "execution_count": 7,
     "metadata": {},
     "output_type": "execute_result"
    }
   ],
   "source": [
    "numeros = np.array([5,8,1,3])\n",
    "np.min(numeros)"
   ]
  },
  {
   "cell_type": "markdown",
   "metadata": {},
   "source": [
    "### Desafio 3\n",
    "Encontre o indice do maior valor deste array e exiba o resultado"
   ]
  },
  {
   "cell_type": "code",
   "execution_count": 9,
   "metadata": {},
   "outputs": [
    {
     "data": {
      "text/plain": [
       "np.int64(1)"
      ]
     },
     "execution_count": 9,
     "metadata": {},
     "output_type": "execute_result"
    }
   ],
   "source": [
    "numeros = np.array([5,8,1,3])\n",
    "np.argmax(numeros)"
   ]
  },
  {
   "cell_type": "markdown",
   "metadata": {},
   "source": [
    "### Desafio 4\n",
    "Arredonde os valores do seguinte array de decimais e exiba o resultado\n",
    "decimais = np.array([1.1,2.6,3.4])"
   ]
  },
  {
   "cell_type": "code",
   "execution_count": 10,
   "metadata": {},
   "outputs": [
    {
     "data": {
      "text/plain": [
       "array([1., 3., 3.])"
      ]
     },
     "execution_count": 10,
     "metadata": {},
     "output_type": "execute_result"
    }
   ],
   "source": [
    "decimais = np.array([1.1,2.6,3.4])\n",
    "np.round(decimais)"
   ]
  }
 ],
 "metadata": {
  "kernelspec": {
   "display_name": "Python 3",
   "language": "python",
   "name": "python3"
  },
  "language_info": {
   "codemirror_mode": {
    "name": "ipython",
    "version": 3
   },
   "file_extension": ".py",
   "mimetype": "text/x-python",
   "name": "python",
   "nbconvert_exporter": "python",
   "pygments_lexer": "ipython3",
   "version": "3.12.8"
  }
 },
 "nbformat": 4,
 "nbformat_minor": 2
}
