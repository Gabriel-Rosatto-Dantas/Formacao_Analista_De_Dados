{
 "cells": [
  {
   "cell_type": "code",
   "execution_count": 11,
   "metadata": {},
   "outputs": [
    {
     "data": {
      "text/plain": [
       "array([10, 40])"
      ]
     },
     "execution_count": 11,
     "metadata": {},
     "output_type": "execute_result"
    }
   ],
   "source": [
    "import numpy as np\n",
    "\n",
    "numeros = np.array([2,4,6,8,10])\n",
    "numeros[3] #Acessar por indice\n",
    "numeros[-1] #Acessar ultimo valor\n",
    "\n",
    "numeros[2:4] # Acessa o valor 6 e 8\n",
    "numeros[1:3] # Acessa o valor 4 e 6\n",
    "numeros[1:] #Acessando os valores ate o final\n",
    "\n",
    "#Inciar no primeiro item e ir até o final, extraindo os valor de cada 2 indices\n",
    "numeros2 = np.array([10,20,30,40,50,60,70])\n",
    "numeros2[::2]\n",
    "\n",
    "#Array[indice_inicial:indice_final:pulo]\n",
    "numeros2[0:5:2]\n",
    "\n",
    "#Indice em matrizes\n",
    "matriz = np.array([[1,2,4],[5,6,7]])\n",
    "matriz[1,1]\n",
    "\n",
    "#Fatiamento em matrizes\n",
    "matriz = np.array([[1,2,3],\n",
    "                   [4,5,6],\n",
    "                   [7,8,9]])\n",
    "matriz[0:2,0:2]\n",
    "\n",
    "#Fatiamento condicional\n",
    "valores = np.array([10,20,30,40,50])\n",
    "valores[(valores > 20) & (valores < 50)]\n",
    "valores[(valores == 10) | (valores == 40)]"
   ]
  },
  {
   "cell_type": "markdown",
   "metadata": {},
   "source": [
    "### Desafio 1\n",
    "Dado o array abaixo, exiba os 3 primeiros elementos"
   ]
  },
  {
   "cell_type": "code",
   "execution_count": 13,
   "metadata": {},
   "outputs": [
    {
     "data": {
      "text/plain": [
       "[3, 6, 9]"
      ]
     },
     "execution_count": 13,
     "metadata": {},
     "output_type": "execute_result"
    }
   ],
   "source": [
    "numeros = [3,6,9,12,15]\n",
    "numeros[0:3]"
   ]
  },
  {
   "cell_type": "markdown",
   "metadata": {},
   "source": [
    "### Desafio 2\n",
    "Dado o array abaixo, exiba os numeros impares usando fatiamento"
   ]
  },
  {
   "cell_type": "code",
   "execution_count": 22,
   "metadata": {},
   "outputs": [
    {
     "data": {
      "text/plain": [
       "[3, 9, 15]"
      ]
     },
     "execution_count": 22,
     "metadata": {},
     "output_type": "execute_result"
    }
   ],
   "source": [
    "outros_numeros = [3,6,9,12,15]\n",
    "impares = [num for num in outros_numeros if num % 2 != 0]\n",
    "impares"
   ]
  },
  {
   "cell_type": "markdown",
   "metadata": {},
   "source": [
    "### Desafio 3\n",
    "Dada a matriz abaixo, exiba os valores da terceira coluna de todas as linhas"
   ]
  },
  {
   "cell_type": "code",
   "execution_count": 133,
   "metadata": {},
   "outputs": [
    {
     "data": {
      "text/plain": [
       "array([3, 6, 9])"
      ]
     },
     "execution_count": 133,
     "metadata": {},
     "output_type": "execute_result"
    }
   ],
   "source": [
    "matriz = np.array([[1,2,3],\n",
    "                   [4,5,6],\n",
    "                   [7,8,9]])\n",
    "\n",
    "matriz[0:3,2]"
   ]
  },
  {
   "cell_type": "markdown",
   "metadata": {},
   "source": [
    "### Desafio 4\n",
    "Da matriz abaixo, exiba os elementos das duas primeiras linhas e da primeira coluna"
   ]
  },
  {
   "cell_type": "code",
   "execution_count": 131,
   "metadata": {},
   "outputs": [
    {
     "data": {
      "text/plain": [
       "array([1, 4])"
      ]
     },
     "execution_count": 131,
     "metadata": {},
     "output_type": "execute_result"
    }
   ],
   "source": [
    "matriz = np.array([[1,2,3],\n",
    "                   [4,5,6],\n",
    "                   [7,8,9]])\n",
    "\n",
    "matriz[0:2,0]"
   ]
  },
  {
   "cell_type": "markdown",
   "metadata": {},
   "source": [
    "### Desafio 5\n",
    "Dado o array abaixo, exiba os numeros que são menores que 20 ou maiores que 25"
   ]
  },
  {
   "cell_type": "code",
   "execution_count": 130,
   "metadata": {},
   "outputs": [
    {
     "data": {
      "text/plain": [
       "array([ 5, 10, 15, 30])"
      ]
     },
     "execution_count": 130,
     "metadata": {},
     "output_type": "execute_result"
    }
   ],
   "source": [
    "valores = np.array([5,10,15,20,25,30])\n",
    "valores[(valores < 20) | (valores > 25)]"
   ]
  }
 ],
 "metadata": {
  "kernelspec": {
   "display_name": "Python 3",
   "language": "python",
   "name": "python3"
  },
  "language_info": {
   "codemirror_mode": {
    "name": "ipython",
    "version": 3
   },
   "file_extension": ".py",
   "mimetype": "text/x-python",
   "name": "python",
   "nbconvert_exporter": "python",
   "pygments_lexer": "ipython3",
   "version": "3.12.8"
  }
 },
 "nbformat": 4,
 "nbformat_minor": 2
}
