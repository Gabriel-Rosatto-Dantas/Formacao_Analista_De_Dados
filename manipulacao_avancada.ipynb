{
 "cells": [
  {
   "cell_type": "code",
   "execution_count": 10,
   "metadata": {},
   "outputs": [
    {
     "name": "stdout",
     "output_type": "stream",
     "text": [
      "18.0\n",
      "18.285714285714285\n",
      "18.285714285714285\n",
      "20.714285714285715\n"
     ]
    }
   ],
   "source": [
    "import numpy as np\n",
    "\n",
    "dados = np.array([1,2,3,4,5,6])\n",
    "\n",
    "#Multiplos indices\n",
    "indices = [0,3,5]\n",
    "dados[indices]\n",
    "\n",
    "#Janela deslizante - list compreheension\n",
    "\n",
    "np.random.seed(30)\n",
    "temperaturas = np.random.randint(5,35,30) # Gerar um array de 30 temperaturas aleatorias\n",
    "temperaturas\n",
    "\n",
    "tamanho_janela = 7\n",
    "janelas_temperaturas = [temperaturas[i:i+tamanho_janela] for i in range(0,len(temperaturas) - tamanho_janela + 1,7)]\n",
    "janelas_temperaturas\n",
    "\n",
    "#Qual a media de temperatura a cada semana ?\n",
    "for temp in janelas_temperaturas:\n",
    "    print(np.mean(temp))\n",
    "    \n"
   ]
  },
  {
   "cell_type": "markdown",
   "metadata": {},
   "source": [
    "### Desafio 1\n",
    "A partir do array abaixo de 30 pesos diferentes, gere 3 arrays a partir de uma janela deslizante de 10 itens, coloque este resultado em uma variável chamada faixa_pesos e imprima o resultado com um laço for"
   ]
  },
  {
   "cell_type": "code",
   "execution_count": null,
   "metadata": {},
   "outputs": [
    {
     "name": "stdout",
     "output_type": "stream",
     "text": [
      "[ 73 111  89  89  59  56 104  73  74  51]\n",
      "[ 77  56  72 116 115 110  69 101 107 117]\n",
      "[ 70  58 111  59 118  56 118  96  70  68]\n"
     ]
    }
   ],
   "source": [
    "np.random.seed(1337)\n",
    "pesos = np.random.randint(50,120,30) # [ 73, 111,  89,  89,  59,  56, 104,  73,  74,  51,  77,  56,  72,116, 115, 110,  69, 101, 107, 117,  70,  58, 111,  59, 118,  56,118,  96,  70,  68]\n",
    "\n",
    "janela1 = 10\n",
    "# Metodo list comprehension\n",
    "faixa_pesos = [pesos[i:i+janela1] for i in range(0,len(pesos) - janela1 + 1,10)]\n",
    "faixa_pesos\n",
    "\n",
    "for faixa in faixa_pesos:\n",
    "    print(faixa)"
   ]
  },
  {
   "cell_type": "markdown",
   "metadata": {},
   "source": [
    "### Desafio 2\n",
    "A partir da variável faixa_pesos, faça duas list comprehensions para resolver os seguintes problemas:\n",
    "a) Encontre o desvio padrão de cada faixa de peso, guarde isso numa variável chamada desvio_padrão e imprima o resultado na tela\n",
    "b) Encontre o valor máximo entre cada faixa de peso, guarde isso numa variável chamada pesos_máximo e imprima o resultado na tela"
   ]
  },
  {
   "cell_type": "code",
   "execution_count": null,
   "metadata": {},
   "outputs": [
    {
     "name": "stdout",
     "output_type": "stream",
     "text": [
      "[np.float64(19.096858380372414), np.float64(21.840329667841555), np.float64(24.274266209300745)]\n"
     ]
    }
   ],
   "source": [
    "#a)\n",
    "desvio_padrao = [np.std(faixa) for faixa in faixa_pesos]\n",
    "print(desvio_padrao)"
   ]
  },
  {
   "cell_type": "code",
   "execution_count": 33,
   "metadata": {},
   "outputs": [
    {
     "name": "stdout",
     "output_type": "stream",
     "text": [
      "[np.int32(111), np.int32(117), np.int32(118)]\n"
     ]
    }
   ],
   "source": [
    "#b)\n",
    "pesos_maximo = [np.max(faixa) for faixa in faixa_pesos]\n",
    "print(pesos_maximo)"
   ]
  }
 ],
 "metadata": {
  "kernelspec": {
   "display_name": "Python 3",
   "language": "python",
   "name": "python3"
  },
  "language_info": {
   "codemirror_mode": {
    "name": "ipython",
    "version": 3
   },
   "file_extension": ".py",
   "mimetype": "text/x-python",
   "name": "python",
   "nbconvert_exporter": "python",
   "pygments_lexer": "ipython3",
   "version": "3.12.8"
  }
 },
 "nbformat": 4,
 "nbformat_minor": 2
}
